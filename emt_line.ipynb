{
 "cells": [
  {
   "cell_type": "code",
   "execution_count": 1,
   "metadata": {},
   "outputs": [],
   "source": [
    "import numpy as np\n",
    "import matplotlib.pyplot as plt\n",
    "from pydae import ssa\n",
    "import ipywidgets\n",
    "from emt_line import emt_line_class"
   ]
  },
  {
   "cell_type": "code",
   "execution_count": 2,
   "metadata": {},
   "outputs": [],
   "source": [
    "%matplotlib widget"
   ]
  },
  {
   "cell_type": "code",
   "execution_count": 3,
   "metadata": {},
   "outputs": [],
   "source": [
    "line = emt_line_class()"
   ]
  },
  {
   "cell_type": "code",
   "execution_count": 4,
   "metadata": {},
   "outputs": [
    {
     "data": {
      "text/html": [
       "<div>\n",
       "<style scoped>\n",
       "    .dataframe tbody tr th:only-of-type {\n",
       "        vertical-align: middle;\n",
       "    }\n",
       "\n",
       "    .dataframe tbody tr th {\n",
       "        vertical-align: top;\n",
       "    }\n",
       "\n",
       "    .dataframe thead th {\n",
       "        text-align: right;\n",
       "    }\n",
       "</style>\n",
       "<table border=\"1\" class=\"dataframe\">\n",
       "  <thead>\n",
       "    <tr style=\"text-align: right;\">\n",
       "      <th></th>\n",
       "      <th>Real</th>\n",
       "      <th>Imag</th>\n",
       "      <th>Freq.</th>\n",
       "      <th>Damp</th>\n",
       "    </tr>\n",
       "  </thead>\n",
       "  <tbody>\n",
       "    <tr>\n",
       "      <th>Mode 1</th>\n",
       "      <td>-7.231329e+03</td>\n",
       "      <td>3.255772e+07</td>\n",
       "      <td>5.181722e+06</td>\n",
       "      <td>0.000222</td>\n",
       "    </tr>\n",
       "    <tr>\n",
       "      <th>Mode 2</th>\n",
       "      <td>-7.231329e+03</td>\n",
       "      <td>-3.255772e+07</td>\n",
       "      <td>5.181722e+06</td>\n",
       "      <td>0.000222</td>\n",
       "    </tr>\n",
       "    <tr>\n",
       "      <th>Mode 3</th>\n",
       "      <td>-7.347692e+03</td>\n",
       "      <td>3.260145e+07</td>\n",
       "      <td>5.188682e+06</td>\n",
       "      <td>0.000225</td>\n",
       "    </tr>\n",
       "    <tr>\n",
       "      <th>Mode 4</th>\n",
       "      <td>-7.347692e+03</td>\n",
       "      <td>-3.260145e+07</td>\n",
       "      <td>5.188682e+06</td>\n",
       "      <td>0.000225</td>\n",
       "    </tr>\n",
       "    <tr>\n",
       "      <th>Mode 5</th>\n",
       "      <td>-7.016918e+03</td>\n",
       "      <td>3.264315e+07</td>\n",
       "      <td>5.195319e+06</td>\n",
       "      <td>0.000215</td>\n",
       "    </tr>\n",
       "    <tr>\n",
       "      <th>...</th>\n",
       "      <td>...</td>\n",
       "      <td>...</td>\n",
       "      <td>...</td>\n",
       "      <td>...</td>\n",
       "    </tr>\n",
       "    <tr>\n",
       "      <th>Mode 397</th>\n",
       "      <td>-6.687245e+04</td>\n",
       "      <td>-1.261176e+07</td>\n",
       "      <td>2.007223e+06</td>\n",
       "      <td>0.005302</td>\n",
       "    </tr>\n",
       "    <tr>\n",
       "      <th>Mode 398</th>\n",
       "      <td>-4.679105e+04</td>\n",
       "      <td>1.833340e+07</td>\n",
       "      <td>2.917851e+06</td>\n",
       "      <td>0.002552</td>\n",
       "    </tr>\n",
       "    <tr>\n",
       "      <th>Mode 399</th>\n",
       "      <td>-4.679105e+04</td>\n",
       "      <td>-1.833340e+07</td>\n",
       "      <td>2.917851e+06</td>\n",
       "      <td>0.002552</td>\n",
       "    </tr>\n",
       "    <tr>\n",
       "      <th>Mode 400</th>\n",
       "      <td>3.043915e+01</td>\n",
       "      <td>0.000000e+00</td>\n",
       "      <td>0.000000e+00</td>\n",
       "      <td>-1.000000</td>\n",
       "    </tr>\n",
       "    <tr>\n",
       "      <th>Mode 401</th>\n",
       "      <td>-1.000000e-08</td>\n",
       "      <td>0.000000e+00</td>\n",
       "      <td>0.000000e+00</td>\n",
       "      <td>1.000000</td>\n",
       "    </tr>\n",
       "  </tbody>\n",
       "</table>\n",
       "<p>401 rows × 4 columns</p>\n",
       "</div>"
      ],
      "text/plain": [
       "                  Real          Imag         Freq.      Damp\n",
       "Mode 1   -7.231329e+03  3.255772e+07  5.181722e+06  0.000222\n",
       "Mode 2   -7.231329e+03 -3.255772e+07  5.181722e+06  0.000222\n",
       "Mode 3   -7.347692e+03  3.260145e+07  5.188682e+06  0.000225\n",
       "Mode 4   -7.347692e+03 -3.260145e+07  5.188682e+06  0.000225\n",
       "Mode 5   -7.016918e+03  3.264315e+07  5.195319e+06  0.000215\n",
       "...                ...           ...           ...       ...\n",
       "Mode 397 -6.687245e+04 -1.261176e+07  2.007223e+06  0.005302\n",
       "Mode 398 -4.679105e+04  1.833340e+07  2.917851e+06  0.002552\n",
       "Mode 399 -4.679105e+04 -1.833340e+07  2.917851e+06  0.002552\n",
       "Mode 400  3.043915e+01  0.000000e+00  0.000000e+00 -1.000000\n",
       "Mode 401 -1.000000e-08  0.000000e+00  0.000000e+00  1.000000\n",
       "\n",
       "[401 rows x 4 columns]"
      ]
     },
     "execution_count": 4,
     "metadata": {},
     "output_type": "execute_result"
    }
   ],
   "source": [
    "line.initialize([{'v_th':400e3,'K_v':-400e3,'K_i':0.1}],100)\n",
    "\n",
    "ssa.eval_A(line)              # method to linealized the system and to compute matrix A\n",
    "eig_df=ssa.damp_report(line)  # method to create a pandas.DataFrame after computing eigenvalues for A\n",
    "eig_df"
   ]
  },
  {
   "cell_type": "markdown",
   "metadata": {},
   "source": [
    "### Parámetros en común"
   ]
  },
  {
   "cell_type": "code",
   "execution_count": 5,
   "metadata": {},
   "outputs": [
    {
     "name": "stdout",
     "output_type": "stream",
     "text": [
      "Velocidad de propagación = 16525.5 km/s\n",
      "Impedancia = 14.55 Ω\n",
      "V = 325.0 kV\n"
     ]
    }
   ],
   "source": [
    "R_l_m = 0.0268e-3  # resistencia de la linea Ω/m\n",
    "X_l_m = 0.2766e-3  # reactancia de la linea Ω/m\n",
    "L_m = X_l_m/(2*np.pi*50)\n",
    "C_m = 4.159e-9     # capacidad shunt de la linea F/m\n",
    "\n",
    "Long = 200.0\n",
    "N_pos = 200\n",
    "Δpos = Long/N_pos\n",
    "L = L_m*Δpos\n",
    "C = C_m*Δpos\n",
    "R_l = R_l_m*Δpos\n",
    "R_s = 200000\n",
    "\n",
    "C_speed = 1/np.sqrt(L*C) # velocidad de propagación\n",
    "print(f'Velocidad de propagación = {C_speed/1000:0.1f} km/s')\n",
    "R_c = np.sqrt(L/C)\n",
    "print(f'Impedancia = {R_c:0.2f} Ω')\n",
    "\n",
    "line = emt_line_class()\n",
    "\n",
    "params_dict_base = {}\n",
    "for it in range(N_pos):\n",
    "    idn = f'{it}'.zfill(3)\n",
    "    params_dict_base.update({f'R_{idn}':R_l})\n",
    "    params_dict_base.update({f'L_{idn}':L})\n",
    "    params_dict_base.update({f'C_{idn}':C})\n",
    "    params_dict_base.update({f'R_s_{idn}':R_s})\n",
    "    \n",
    "params_dict_base.update({'Dt':0.1e-6,'di_000':0.0,'decimation':1,'R_s_000':R_c*9,'v_th':371e3,'K_v':-1000e3,'K_i':0.01})\n",
    "line.initialize([params_dict_base],100)\n",
    "print(f\"V = {line.get_value('v_s_000')/1000:0.1f} kV\")"
   ]
  },
  {
   "cell_type": "markdown",
   "metadata": {},
   "source": [
    "### Linea terminada en circuito abierto"
   ]
  },
  {
   "cell_type": "code",
   "execution_count": 12,
   "metadata": {},
   "outputs": [],
   "source": [
    "line = emt_line_class()\n",
    "\n",
    "params_dict = params_dict_base.copy()\n",
    "params_dict.update({'Dt':0.1e-6,'di_000':0.0,'L_199':100})\n",
    "line.initialize([params_dict],100)\n",
    "t_fin = 50e-6\n",
    "line.run([{'t_end': 1e-6}])\n",
    "line.run([{'t_end': 2e-6,'di_000':   1e6*10e3}])\n",
    "line.run([{'t_end': 7e-6+0.5e-6,'di_000':-0.2e6*10e3}])\n",
    "line.run([{'t_end':t_fin,'di_000': 0.0e6}])\n",
    "line.post();\n",
    "\n",
    "np.savez('open_circuit_end.npz', t=line.T, X=line.struct[0].X)"
   ]
  },
  {
   "cell_type": "code",
   "execution_count": 13,
   "metadata": {},
   "outputs": [
    {
     "data": {
      "application/vnd.jupyter.widget-view+json": {
       "model_id": "dc85d2da03a0483381a6a878529510f8",
       "version_major": 2,
       "version_minor": 0
      },
      "text/plain": [
       "VBox(children=(HBox(children=(Canvas(toolbar=Toolbar(toolitems=[('Home', 'Reset original view', 'home', 'home'…"
      ]
     },
     "metadata": {},
     "output_type": "display_data"
    }
   ],
   "source": [
    "plt.ioff()\n",
    "plt.clf()\n",
    "\n",
    "fig, axes = plt.subplots(nrows=1,ncols=1, figsize=(6, 3), dpi=100)\n",
    "\n",
    "data = np.load('open_circuit_end.npz')\n",
    "\n",
    "V_s = data['X'][:,0:-1:2]\n",
    "axes.plot(range(N_pos),V_s[0,:]/1e3,'r')\n",
    "\n",
    "line_plot = axes.plot(range(N_pos),V_s[0,:]/1e3)\n",
    "#axes.legend()\n",
    "axes.set_xlabel('Posición (m)')\n",
    "fig.tight_layout()\n",
    "\n",
    "axes.set_ylim((300,550))\n",
    "axes.set_xlim((0,200))\n",
    "\n",
    "axes.grid(True)\n",
    "\n",
    "fig.tight_layout()\n",
    "\n",
    "sld_T  = ipywidgets.FloatSlider(orientation='horizontal',description = \"Time $(\\mu s)$\", \n",
    "                                value=0, min=0,max= t_fin*1e6, \n",
    "                                step=0.1,continuous_update=False)\n",
    "\n",
    "def update(change):\n",
    "    \n",
    "    t = sld_T.value   \n",
    "    it = np.searchsorted(line.T[:,0], t*1e-6)\n",
    "    line_plot[0].set_data(range(N_pos),V_s[it,:]/1e3)\n",
    "    fig.canvas.draw_idle()\n",
    "      \n",
    "sld_T.observe(update, names='value')\n",
    "\n",
    "layout_row1 = ipywidgets.HBox([fig.canvas])\n",
    "layout_row2 = ipywidgets.HBox([sld_T])\n",
    "\n",
    "layout = ipywidgets.VBox([layout_row1,layout_row2])\n",
    "layout"
   ]
  },
  {
   "cell_type": "code",
   "execution_count": null,
   "metadata": {
    "scrolled": true
   },
   "outputs": [],
   "source": []
  },
  {
   "cell_type": "markdown",
   "metadata": {},
   "source": [
    "### Linea terminada en corto circuito"
   ]
  },
  {
   "cell_type": "code",
   "execution_count": 95,
   "metadata": {},
   "outputs": [
    {
     "data": {
      "application/vnd.jupyter.widget-view+json": {
       "model_id": "b55038d3b7a54b73a29f990654695d4b",
       "version_major": 2,
       "version_minor": 0
      },
      "text/plain": [
       "VBox(children=(HBox(children=(Canvas(toolbar=Toolbar(toolitems=[('Home', 'Reset original view', 'home', 'home'…"
      ]
     },
     "metadata": {},
     "output_type": "display_data"
    }
   ],
   "source": [
    "line = emt_line_class()\n",
    "\n",
    "params_dict = params_dict_base.copy()\n",
    "params_dict.update({'Dt':0.1e-6,'di_000':0.0,'R_s_199':0.001,'K_v':-1000e3,'K_i':0.01})\n",
    "line.initialize([params_dict],100)\n",
    "t_fin = 50e-6\n",
    "line.run([{'t_end': 1e-6}])\n",
    "line.run([{'t_end': 2e-6,'di_000':   1e6*10e3}])\n",
    "line.run([{'t_end': 7e-6+0.5e-6,'di_000':-0.2e6*10e3}])\n",
    "line.run([{'t_end':t_fin,'di_000': 0.0e6}])\n",
    "line.post();\n",
    "\n",
    "plt.ioff()\n",
    "plt.clf()\n",
    "\n",
    "fig, axes = plt.subplots(nrows=1,ncols=1, figsize=(6, 3), dpi=100)\n",
    "\n",
    "V_s = line.struct[0].X[:,0:-1:2]\n",
    "axes.plot(range(N_pos),V_s[0,:]/1e3,'r')\n",
    "line_plot = axes.plot(range(N_pos),V_s[0,:]/1e3)\n",
    "#axes.legend()\n",
    "axes.set_xlabel('Posición (m)')\n",
    "fig.tight_layout()\n",
    "\n",
    "axes.set_ylim((-100,100))\n",
    "axes.set_xlim((0,200))\n",
    "\n",
    "axes.grid(True)\n",
    "\n",
    "fig.tight_layout()\n",
    "\n",
    "sld_T  = ipywidgets.FloatSlider(orientation='horizontal',description = \"Time $(\\mu s)$\", \n",
    "                                value=0, min=0,max= t_fin*1e6, \n",
    "                                step=1,continuous_update=False)\n",
    "\n",
    "def update(change):\n",
    "    \n",
    "    t = sld_T.value \n",
    "    it = np.searchsorted(line.T[:,0], t*1e-6)\n",
    "    line_plot[0].set_data(range(N_pos),V_s[it,:]/1e3)\n",
    "    fig.canvas.draw_idle()\n",
    "      \n",
    "sld_T.observe(update, names='value')\n",
    "\n",
    "layout_row1 = ipywidgets.HBox([fig.canvas])\n",
    "layout_row2 = ipywidgets.HBox([sld_T])\n",
    "\n",
    "layout = ipywidgets.VBox([layout_row1,layout_row2])\n",
    "layout\n"
   ]
  },
  {
   "cell_type": "markdown",
   "metadata": {},
   "source": [
    "### Linea con cambio de impedancia (aumento en la mitad)"
   ]
  },
  {
   "cell_type": "code",
   "execution_count": 96,
   "metadata": {},
   "outputs": [
    {
     "data": {
      "application/vnd.jupyter.widget-view+json": {
       "model_id": "34b3efdd1cec4621a3deb3c7c08046c1",
       "version_major": 2,
       "version_minor": 0
      },
      "text/plain": [
       "VBox(children=(HBox(children=(Canvas(toolbar=Toolbar(toolitems=[('Home', 'Reset original view', 'home', 'home'…"
      ]
     },
     "metadata": {},
     "output_type": "display_data"
    }
   ],
   "source": [
    "line = emt_line_class()\n",
    "\n",
    "params_dict = params_dict_base.copy()\n",
    "params_dict.update({'Dt':0.1e-6,'di_000':0.0})\n",
    "for it in range(100,N_pos):\n",
    "    idn = f'{it}'.zfill(3)\n",
    "    params_dict.update({f'R_{idn}':2*R_l})\n",
    "    params_dict.update({f'L_{idn}':2*L})\n",
    "\n",
    "line.initialize([params_dict],100)\n",
    "t_fin = 50e-6\n",
    "line.run([{'t_end': 1e-6}])\n",
    "line.run([{'t_end': 2e-6,'di_000':   1e6*10e3}])\n",
    "line.run([{'t_end': 7e-6+0.1e-6,'di_000':-0.2e6*10e3}])\n",
    "line.run([{'t_end':t_fin,'di_000': 0.0e6}])\n",
    "line.post();\n",
    "\n",
    "plt.ioff()\n",
    "plt.clf()\n",
    "\n",
    "fig, axes = plt.subplots(nrows=1,ncols=1, figsize=(6, 3), dpi=100)\n",
    "\n",
    "V_s = line.struct[0].X[:,0:-1:2]\n",
    "line_plot = axes.plot(range(N_pos),V_s[0,:]/1e3)\n",
    "#axes.legend()\n",
    "axes.set_xlabel('Posición (m)')\n",
    "fig.tight_layout()\n",
    "\n",
    "axes.set_ylim((300,450))\n",
    "axes.set_xlim((0,200))\n",
    "\n",
    "axes.grid(True)\n",
    "\n",
    "fig.tight_layout()\n",
    "\n",
    "sld_T  = ipywidgets.FloatSlider(orientation='horizontal',description = \"Time $(\\mu s)$\", \n",
    "                                value=0, min=0,max= t_fin*1e6, \n",
    "                                step=1,continuous_update=False)\n",
    "\n",
    "def update(change):\n",
    "    \n",
    "    t = sld_T.value\n",
    "    \n",
    "    it = np.searchsorted(line.T[:,0], t*1e-6)\n",
    "    \n",
    "    line_plot[0].set_data(range(N_pos),V_s[it,:]/1e3)\n",
    "\n",
    "    fig.canvas.draw_idle()\n",
    "      \n",
    "sld_T.observe(update, names='value')\n",
    "\n",
    "layout_row1 = ipywidgets.HBox([fig.canvas])\n",
    "layout_row2 = ipywidgets.HBox([sld_T])\n",
    "\n",
    "layout = ipywidgets.VBox([layout_row1,layout_row2])\n",
    "layout"
   ]
  },
  {
   "cell_type": "code",
   "execution_count": null,
   "metadata": {},
   "outputs": [],
   "source": []
  },
  {
   "cell_type": "markdown",
   "metadata": {},
   "source": [
    "### Linea con cambio de impedancia (disminución en la mitad)"
   ]
  },
  {
   "cell_type": "code",
   "execution_count": 97,
   "metadata": {},
   "outputs": [
    {
     "data": {
      "application/vnd.jupyter.widget-view+json": {
       "model_id": "0f7a5994356743b2906a6e51673d3971",
       "version_major": 2,
       "version_minor": 0
      },
      "text/plain": [
       "VBox(children=(HBox(children=(Canvas(toolbar=Toolbar(toolitems=[('Home', 'Reset original view', 'home', 'home'…"
      ]
     },
     "metadata": {},
     "output_type": "display_data"
    }
   ],
   "source": [
    "line = emt_line_class()\n",
    "\n",
    "params_dict = params_dict_base.copy()\n",
    "params_dict.update({'Dt':0.1e-6,'di_000':0.0})\n",
    "for it in range(100,N_pos):\n",
    "    idn = f'{it}'.zfill(3)\n",
    "    params_dict.update({f'R_{idn}':0.5*R_l})\n",
    "    params_dict.update({f'L_{idn}':0.5*L})\n",
    "\n",
    "line.initialize([params_dict],100)\n",
    "t_fin = 50e-6\n",
    "line.run([{'t_end': 1e-6}])\n",
    "line.run([{'t_end': 2e-6,'di_000':   1e6*10e3}])\n",
    "line.run([{'t_end': 7e-6+0.5e-6,'di_000':-0.2e6*10e3}])\n",
    "line.run([{'t_end':t_fin,'di_000': 0.0e6}])\n",
    "line.post();\n",
    "\n",
    "plt.ioff()\n",
    "plt.clf()\n",
    "\n",
    "fig, axes = plt.subplots(nrows=1,ncols=1, figsize=(6, 3), dpi=100)\n",
    "\n",
    "V_s = line.struct[0].X[:,0:-1:2]\n",
    "axes.plot(range(N_pos),V_s[0,:]/1e3,'r')\n",
    "line_plot = axes.plot(range(N_pos),V_s[0,:]/1e3)\n",
    "#axes.legend()\n",
    "axes.set_xlabel('Posición (m)')\n",
    "fig.tight_layout()\n",
    "\n",
    "axes.set_ylim((200,500))\n",
    "axes.set_xlim((0,200))\n",
    "\n",
    "axes.grid(True)\n",
    "\n",
    "fig.tight_layout()\n",
    "\n",
    "sld_T  = ipywidgets.FloatSlider(orientation='horizontal',description = \"Time $(\\mu s)$\", \n",
    "                                value=0, min=0,max= t_fin*1e6, \n",
    "                                step=1,continuous_update=False)\n",
    "\n",
    "def update(change):\n",
    "    \n",
    "    t = sld_T.value    \n",
    "    it = np.searchsorted(line.T[:,0], t*1e-6)\n",
    "    line_plot[0].set_data(range(N_pos),V_s[it,:]/1e3)\n",
    "    fig.canvas.draw_idle()\n",
    "      \n",
    "sld_T.observe(update, names='value')\n",
    "\n",
    "layout_row1 = ipywidgets.HBox([fig.canvas])\n",
    "layout_row2 = ipywidgets.HBox([sld_T])\n",
    "\n",
    "layout = ipywidgets.VBox([layout_row1,layout_row2])\n",
    "layout"
   ]
  },
  {
   "cell_type": "code",
   "execution_count": null,
   "metadata": {},
   "outputs": [],
   "source": []
  },
  {
   "cell_type": "markdown",
   "metadata": {},
   "source": [
    "### Linea con descargador (50 m)"
   ]
  },
  {
   "cell_type": "code",
   "execution_count": 98,
   "metadata": {},
   "outputs": [
    {
     "data": {
      "application/vnd.jupyter.widget-view+json": {
       "model_id": "0cba683247b74a72851f987bcb8ddf9f",
       "version_major": 2,
       "version_minor": 0
      },
      "text/plain": [
       "VBox(children=(HBox(children=(Canvas(toolbar=Toolbar(toolitems=[('Home', 'Reset original view', 'home', 'home'…"
      ]
     },
     "metadata": {},
     "output_type": "display_data"
    }
   ],
   "source": [
    "line = emt_line_class()\n",
    "\n",
    "params_dict = params_dict_base.copy()\n",
    "params_dict.update({'Dt':0.1e-6,'di_000':0.0,'L_150':100,'K_v':-400e3,'K_i':0.01})\n",
    "\n",
    "line.initialize([params_dict],100)\n",
    "t_fin = 50e-6\n",
    "line.run([{'t_end': 1e-6}])\n",
    "line.run([{'t_end': 2e-6,'di_000':   1e6*10e3}])\n",
    "line.run([{'t_end': 7e-6+0.5e-6,'di_000':-0.2e6*10e3}])\n",
    "line.run([{'t_end':t_fin,'di_000': 0.0e6}])\n",
    "line.post();\n",
    "\n",
    "plt.ioff()\n",
    "plt.clf()\n",
    "\n",
    "fig, axes = plt.subplots(nrows=1,ncols=1, figsize=(6, 3), dpi=100)\n",
    "\n",
    "V_s = line.struct[0].X[:,0:-1:2]\n",
    "axes.plot(range(N_pos),V_s[0,:]/1e3,'r')\n",
    "line_plot = axes.plot(range(N_pos),V_s[0,:]/1e3)\n",
    "#axes.legend()\n",
    "axes.set_xlabel('Posición (m)')\n",
    "fig.tight_layout()\n",
    "\n",
    "axes.set_ylim((200,500))\n",
    "axes.set_xlim((0,200))\n",
    "\n",
    "axes.grid(True)\n",
    "\n",
    "fig.tight_layout()\n",
    "\n",
    "sld_T  = ipywidgets.FloatSlider(orientation='horizontal',description = \"Time $(\\mu s)$\", \n",
    "                                value=0, min=0,max= t_fin*1e6, \n",
    "                                step=1,continuous_update=False)\n",
    "\n",
    "def update(change):\n",
    "    \n",
    "    t = sld_T.value    \n",
    "    it = np.searchsorted(line.T[:,0], t*1e-6)\n",
    "    line_plot[0].set_data(range(N_pos),V_s[it,:]/1e3)\n",
    "    fig.canvas.draw_idle()\n",
    "      \n",
    "sld_T.observe(update, names='value')\n",
    "\n",
    "layout_row1 = ipywidgets.HBox([fig.canvas])\n",
    "layout_row2 = ipywidgets.HBox([sld_T])\n",
    "\n",
    "layout = ipywidgets.VBox([layout_row1,layout_row2])\n",
    "layout"
   ]
  },
  {
   "cell_type": "code",
   "execution_count": null,
   "metadata": {},
   "outputs": [],
   "source": []
  },
  {
   "cell_type": "markdown",
   "metadata": {},
   "source": [
    "### Linea con descargador (5 m)"
   ]
  },
  {
   "cell_type": "code",
   "execution_count": 99,
   "metadata": {},
   "outputs": [
    {
     "data": {
      "application/vnd.jupyter.widget-view+json": {
       "model_id": "12314cd635d442b28d630c22474face6",
       "version_major": 2,
       "version_minor": 0
      },
      "text/plain": [
       "VBox(children=(HBox(children=(Canvas(toolbar=Toolbar(toolitems=[('Home', 'Reset original view', 'home', 'home'…"
      ]
     },
     "metadata": {},
     "output_type": "display_data"
    }
   ],
   "source": [
    "line = emt_line_class()\n",
    "\n",
    "params_dict = params_dict_base.copy()\n",
    "params_dict.update({'Dt':0.1e-6,'di_000':0.0,'L_105':100,'K_v':-400e3,'K_i':0.01})\n",
    "\n",
    "line.initialize([params_dict],100)\n",
    "t_fin = 50e-6\n",
    "line.run([{'t_end': 1e-6}])\n",
    "line.run([{'t_end': 2e-6,'di_000':   1e6*10e3}])\n",
    "line.run([{'t_end': 7e-6+0.5e-6,'di_000':-0.2e6*10e3}])\n",
    "line.run([{'t_end':t_fin,'di_000': 0.0e6}])\n",
    "line.post();\n",
    "\n",
    "plt.ioff()\n",
    "plt.clf()\n",
    "\n",
    "fig, axes = plt.subplots(nrows=1,ncols=1, figsize=(6, 3), dpi=100)\n",
    "\n",
    "V_s = line.struct[0].X[:,0:-1:2]\n",
    "axes.plot(range(N_pos),V_s[0,:]/1e3,'r')\n",
    "line_plot = axes.plot(range(N_pos),V_s[0,:]/1e3)\n",
    "#axes.legend()\n",
    "axes.set_xlabel('Posición (m)')\n",
    "fig.tight_layout()\n",
    "\n",
    "axes.set_ylim((200,500))\n",
    "axes.set_xlim((0,200))\n",
    "\n",
    "axes.grid(True)\n",
    "\n",
    "fig.tight_layout()\n",
    "\n",
    "sld_T  = ipywidgets.FloatSlider(orientation='horizontal',description = \"Time $(\\mu s)$\", \n",
    "                                value=0, min=0,max= t_fin*1e6, \n",
    "                                step=0.1,continuous_update=False)\n",
    "\n",
    "def update(change):\n",
    "    \n",
    "    t = sld_T.value    \n",
    "    it = np.searchsorted(line.T[:,0], t*1e-6)\n",
    "    line_plot[0].set_data(range(N_pos),V_s[it,:]/1e3)\n",
    "    fig.canvas.draw_idle()\n",
    "      \n",
    "sld_T.observe(update, names='value')\n",
    "\n",
    "layout_row1 = ipywidgets.HBox([fig.canvas])\n",
    "layout_row2 = ipywidgets.HBox([sld_T])\n",
    "\n",
    "layout = ipywidgets.VBox([layout_row1,layout_row2])\n",
    "layout"
   ]
  },
  {
   "cell_type": "code",
   "execution_count": null,
   "metadata": {},
   "outputs": [],
   "source": []
  },
  {
   "cell_type": "code",
   "execution_count": 103,
   "metadata": {},
   "outputs": [
    {
     "data": {
      "image/png": "[encoded data removed]",
      "text/plain": [
       "<Figure size 600x300 with 1 Axes>"
      ]
     },
     "execution_count": 103,
     "metadata": {},
     "output_type": "execute_result"
    }
   ],
   "source": [
    "fig, axes = plt.subplots(nrows=1,ncols=1, figsize=(6, 3), dpi=100)\n",
    "\n",
    "axes.plot(line.T,line.get_values('v_s_105'),'r')\n",
    "fig"
   ]
  },
  {
   "cell_type": "code",
   "execution_count": null,
   "metadata": {},
   "outputs": [],
   "source": []
  },
  {
   "cell_type": "code",
   "execution_count": 113,
   "metadata": {},
   "outputs": [
    {
     "ename": "OSError",
     "evalue": "[Errno 22] Invalid argument: 'https://github.com/jmmauricio/e-dashboards/blob/c48ee5665be1b2d43b80a6177ab2519bb62ef5e2/data/open_circuit_end.csv'",
     "output_type": "error",
     "traceback": [
      "\u001b[1;31m---------------------------------------------------------------------------\u001b[0m",
      "\u001b[1;31mOSError\u001b[0m                                   Traceback (most recent call last)",
      "\u001b[1;32m<ipython-input-113-f4c77711ef23>\u001b[0m in \u001b[0;36m<module>\u001b[1;34m\u001b[0m\n\u001b[1;32m----> 1\u001b[1;33m \u001b[1;32mwith\u001b[0m \u001b[0mopen\u001b[0m\u001b[1;33m(\u001b[0m\u001b[1;34mr'https://github.com/jmmauricio/e-dashboards/blob/c48ee5665be1b2d43b80a6177ab2519bb62ef5e2/data/open_circuit_end.csv'\u001b[0m\u001b[1;33m,\u001b[0m \u001b[1;34m'r'\u001b[0m\u001b[1;33m)\u001b[0m \u001b[1;32mas\u001b[0m \u001b[0mf\u001b[0m\u001b[1;33m:\u001b[0m\u001b[1;33m\u001b[0m\u001b[1;33m\u001b[0m\u001b[0m\n\u001b[0m\u001b[0;32m      2\u001b[0m     \u001b[0mT\u001b[0m \u001b[1;33m=\u001b[0m \u001b[0mnp\u001b[0m\u001b[1;33m.\u001b[0m\u001b[0mload\u001b[0m\u001b[1;33m(\u001b[0m\u001b[0mf\u001b[0m\u001b[1;33m)\u001b[0m\u001b[1;33m\u001b[0m\u001b[1;33m\u001b[0m\u001b[0m\n",
      "\u001b[1;31mOSError\u001b[0m: [Errno 22] Invalid argument: 'https://github.com/jmmauricio/e-dashboards/blob/c48ee5665be1b2d43b80a6177ab2519bb62ef5e2/data/open_circuit_end.csv'"
     ]
    }
   ],
   "source": [
    "with open(r'https://github.com/jmmauricio/e-dashboards/blob/c48ee5665be1b2d43b80a6177ab2519bb62ef5e2/data/open_circuit_end.csv', 'r') as f:\n",
    "    T = np.load(f)"
   ]
  },
  {
   "cell_type": "code",
   "execution_count": 116,
   "metadata": {},
   "outputs": [
    {
     "ename": "OSError",
     "evalue": "[Errno 22] Invalid argument: 'https://raw.githubusercontent.com/jmmauricio/e-dashboards/c48ee5665be1b2d43b80a6177ab2519bb62ef5e2/data/open_circuit_end.csv'",
     "output_type": "error",
     "traceback": [
      "\u001b[1;31m---------------------------------------------------------------------------\u001b[0m",
      "\u001b[1;31mOSError\u001b[0m                                   Traceback (most recent call last)",
      "\u001b[1;32m<ipython-input-116-11495e27167a>\u001b[0m in \u001b[0;36m<module>\u001b[1;34m\u001b[0m\n\u001b[1;32m----> 1\u001b[1;33m \u001b[0mopen\u001b[0m\u001b[1;33m(\u001b[0m\u001b[1;34mr'https://raw.githubusercontent.com/jmmauricio/e-dashboards/c48ee5665be1b2d43b80a6177ab2519bb62ef5e2/data/open_circuit_end.csv'\u001b[0m\u001b[1;33m,\u001b[0m \u001b[1;34m'r'\u001b[0m\u001b[1;33m)\u001b[0m\u001b[1;33m\u001b[0m\u001b[1;33m\u001b[0m\u001b[0m\n\u001b[0m",
      "\u001b[1;31mOSError\u001b[0m: [Errno 22] Invalid argument: 'https://raw.githubusercontent.com/jmmauricio/e-dashboards/c48ee5665be1b2d43b80a6177ab2519bb62ef5e2/data/open_circuit_end.csv'"
     ]
    }
   ],
   "source": [
    "open(r'https://raw.githubusercontent.com/jmmauricio/e-dashboards/c48ee5665be1b2d43b80a6177ab2519bb62ef5e2/data/open_circuit_end.csv', 'r')"
   ]
  },
  {
   "cell_type": "code",
   "execution_count": null,
   "metadata": {},
   "outputs": [],
   "source": [
    "line = emt_line_class()\n",
    "\n",
    "times = np.arange(0,60e-6,0.1e-6)\n",
    "Dt = times[1]\n",
    "\n",
    "N_pos = 200\n",
    "params_dict = {}\n",
    "for it in range(N_pos):\n",
    "    idn = f'{it}'.zfill(3)\n",
    "    params_dict.update({f'R_s_{idn}':100000})\n",
    "    params_dict.update({f'R_{idn}':0.001})\n",
    "\n",
    "for it in range(100):\n",
    "    idn = f'{it}'.zfill(3)\n",
    "    params_dict.update({f'L_{idn}':L*10})\n",
    "    \n",
    "    \n",
    "params = params_dict\n",
    "params.update({'Dt':0.1e-6,'di_000':0.0,'decimation':1,'R_s_000':R_c})\n",
    "line.initialize([params])\n",
    "\n",
    "t_fin = 50e-6\n",
    "line.run([{'t_end': 1e-6}])\n",
    "line.run([{'t_end': 2e-6,'di_000':   1e6}])\n",
    "line.run([{'t_end': 7e-6,'di_000':-0.2e6}])\n",
    "line.run([{'t_end':t_fin,'di_000': 0.0e6}])\n",
    "\n",
    "line.post();"
   ]
  }
 ],
 "metadata": {
  "kernelspec": {
   "display_name": "Python 3",
   "language": "python",
   "name": "python3"
  },
  "language_info": {
   "codemirror_mode": {
    "name": "ipython",
    "version": 3
   },
   "file_extension": ".py",
   "mimetype": "text/x-python",
   "name": "python",
   "nbconvert_exporter": "python",
   "pygments_lexer": "ipython3",
   "version": "3.8.5"
  }
 },
 "nbformat": 4,
 "nbformat_minor": 4
}
