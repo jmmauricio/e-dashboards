{
 "cells": [
  {
   "cell_type": "markdown",
   "metadata": {},
   "source": [
    "# Phase Shifting Transformer"
   ]
  },
  {
   "cell_type": "code",
   "execution_count": 1,
   "metadata": {},
   "outputs": [
    {
     "name": "stdout",
     "output_type": "stream",
     "text": [
      "Compilation time: 11.20 s\n"
     ]
    }
   ],
   "source": [
    "from IPython.display import SVG\n",
    "from core.trafo_shift import trafo_shift_module\n",
    "%matplotlib widget\n",
    "trafo_shift = trafo_shift_module.dashboard()"
   ]
  },
  {
   "cell_type": "code",
   "execution_count": 2,
   "metadata": {},
   "outputs": [
    {
     "data": {
      "application/vnd.jupyter.widget-view+json": {
       "model_id": "7728078446e442199181a68bed58f545",
       "version_major": 2,
       "version_minor": 0
      },
      "text/plain": [
       "HBox(children=(HTML(value='<svg xmlns=\"http://www.w3.org/2000/svg\" xmlns:inkscape=\"http://www.inkscape.org/nam…"
      ]
     },
     "metadata": {},
     "output_type": "display_data"
    }
   ],
   "source": [
    "trafo_shift.show()"
   ]
  },
  {
   "cell_type": "code",
   "execution_count": 10,
   "metadata": {},
   "outputs": [
    {
     "name": "stdout",
     "output_type": "stream",
     "text": [
      "V_B1  =  1.00\n",
      "theta_B1 =  0.00\n",
      "V_B2  =  1.04\n",
      "theta_B2 =  0.00\n",
      "V_B3  =  1.01\n",
      "theta_B3 =  0.00\n",
      "i_d_B1 =  0.00\n",
      "i_q_B1 =  0.00\n",
      "p_g_B1 =  0.00\n",
      "q_g_B1 =  0.00\n",
      "v_f_B1 =  1.00\n",
      "p_m_ref_B1 =  0.00\n",
      "p_m_B1 =  0.00\n",
      "omega_coi =  1.00\n",
      "p_agc = -1000.00\n"
     ]
    }
   ],
   "source": [
    "trafo_shift.grid.report_y()"
   ]
  },
  {
   "cell_type": "code",
   "execution_count": null,
   "metadata": {},
   "outputs": [],
   "source": []
  }
 ],
 "metadata": {
  "kernelspec": {
   "display_name": "Python 3 (ipykernel)",
   "language": "python",
   "name": "python3"
  },
  "language_info": {
   "codemirror_mode": {
    "name": "ipython",
    "version": 3
   },
   "file_extension": ".py",
   "mimetype": "text/x-python",
   "name": "python",
   "nbconvert_exporter": "python",
   "pygments_lexer": "ipython3",
   "version": "3.9.7"
  }
 },
 "nbformat": 4,
 "nbformat_minor": 4
}
