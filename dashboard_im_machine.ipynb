{
 "cells": [
  {
   "cell_type": "markdown",
   "metadata": {},
   "source": [
    "In this app we:\n",
    "* Plot the gaussian density for a specific $\\mu$ and $\\sigma$\n",
    "* Use the FloatSlider widget in ipywidgets to represent $\\mu$ and $\\sigma$ values\n",
    "* Stack the density plot along with the sliders into a nice layout using HBox and VBox layout objects available in ipywidgets\n",
    "* Link the sliders to the plot so that the plot gets updated when the values of $\\mu$ and $\\sigma$ change\n",
    "\n",
    "Find the code [here](https://github.com/pbugnion/voila-gallery/blob/master/gaussian-density/index.ipynb).\n",
    "\n",
    "This example is taken from [ChakriCherukuri/mlviz](https://github.com/ChakriCherukuri/mlviz)."
   ]
  },
  {
   "cell_type": "code",
   "execution_count": 7,
   "metadata": {},
   "outputs": [
    {
     "data": {
      "application/vnd.jupyter.widget-view+json": {
       "model_id": "090c7fddf4dc44cab2205fdd4c2ffefe",
       "version_major": 2,
       "version_minor": 0
      },
      "text/plain": [
       "VBox(children=(VBox(children=(Figure(axes=[Axis(label='Velocidad (r.p.m.)', scale=LinearScale(max=1500.0, min=…"
      ]
     },
     "metadata": {},
     "output_type": "display_data"
    }
   ],
   "source": [
    "import numpy as np\n",
    "import bqplot as bq\n",
    "from scipy.stats import norm\n",
    "from im import im\n",
    "import ipywidgets as widgets\n",
    "\n",
    "n_array = np.linspace(0,1499,500)\n",
    "mi_1 = im('abb_22kWw')\n",
    "mi_1.update(n_array)\n",
    "\n",
    "mi_1.R_2_start_0 =  mi_1.R_2_start\n",
    "mi_1.R_2_max_0 =  mi_1.R_2_max\n",
    "mi_1.R_2_nominal_0 =  mi_1.R_2_nominal\n",
    "\n",
    "marks = []\n",
    "# If e.g. bq.LinearScale(min=0, max=1) is used, everything works fine\n",
    "scale_y_Tu = bq.LinearScale()\n",
    "scale_x_Tu = bq.LinearScale()\n",
    "\n",
    "ax_x_Tu = bq.Axis(scale=scale_x_Tu, orientation='horizontal', label='Velocidad (r.p.m.)')\n",
    "ax_y_Tu = bq.Axis(scale=scale_y_Tu, orientation='vertical', label='Par (Nm)')\n",
    "\n",
    "x = [0]\n",
    "y = [0]\n",
    "line_Tu = bq.Lines(x=x, y=y,\n",
    "                  scales={'x': scale_x_Tu, 'y': scale_y_Tu},\n",
    "                  labels=['Test'])\n",
    "line_Tun = bq.Lines(x=x, y=y,\n",
    "                  scales={'x': scale_x_Tu, 'y': scale_y_Tu},\n",
    "                  labels=['Test'], colors=['orange'])\n",
    "line_n_Tu = bq.Lines(x=x, y=y,\n",
    "                  scales={'x': scale_x_Tu, 'y': scale_y_Tu},\n",
    "                  labels=['Test'], colors=['orange'], marker='circle')\n",
    "fig_Tu = bq.Figure(marks=[line_Tu,line_Tun,line_n_Tu], axes=[ax_x_Tu, ax_y_Tu], \n",
    "                   title='Par vs velocidad', legend_location='bottom-right', min_aspect_ratio = 1.5)\n",
    "\n",
    "scale_x_I1 = bq.LinearScale()\n",
    "scale_y_I1 = bq.LinearScale()\n",
    "\n",
    "\n",
    "ax_x_I1 = bq.Axis(scale=scale_x_I1, orientation='horizontal', label='Velocidad (r.p.m.)')\n",
    "ax_y_I1 = bq.Axis(scale=scale_y_I1, orientation='vertical', label='Corriente (A)')\n",
    "\n",
    "x = [0]\n",
    "y = [0]\n",
    "line_I1 = bq.Lines(x=x, y=y,\n",
    "                  scales={'x': scale_x_I1, 'y': scale_y_I1},\n",
    "                  labels=['Test'])\n",
    "line_In = bq.Lines(x=x, y=y,\n",
    "                  scales={'x': scale_x_I1, 'y': scale_y_I1},\n",
    "                  labels=['Test'], colors=['orange'])\n",
    "line_n_I1 = bq.Lines(x=x, y=y,\n",
    "                  scales={'x': scale_x_I1, 'y': scale_y_I1},\n",
    "                  labels=['Test'], colors=['orange'], marker='circle')\n",
    "fig_I1 = bq.Figure(marks=[line_I1,line_In,line_n_I1], axes=[ax_x_I1, ax_y_I1], \n",
    "                   title='API Example', legend_location='bottom-right',  min_aspect_ratio = 1.5)\n",
    "\n",
    "\n",
    "# use two sliders to represent mu and sigma\n",
    "sld_R2 = widgets.FloatSlider(description='$\\sf R_2$', value=0, min=0, max=4, step=.1)\n",
    "sld_U1 = widgets.FloatSlider(description='$\\sf U_1$', value=400, min=0.0, max=420, step=1)\n",
    "sld_freq = widgets.FloatSlider(description='$\\sf f$', value=50, min=0.0, max=75, step=1)\n",
    "\n",
    "ckbox_escalar = widgets.Checkbox(\n",
    "    value=False,\n",
    "    description='CTRL Escalar',\n",
    "    disabled=False\n",
    ")\n",
    "\n",
    "slider_layout = widgets.HBox([sld_R2, sld_U1, sld_freq])\n",
    "\n",
    "def update_density(change):\n",
    "    new_R2 = sld_R2.value\n",
    "    \n",
    "    new_freq = sld_freq.value\n",
    "    if ckbox_escalar.value == True:\n",
    "        sld_U1.value = new_freq/50*400.0\n",
    "    new_U1 = sld_U1.value    \n",
    "    mi_1.R_2_start =  mi_1.R_2_start_0 + new_R2\n",
    "    mi_1.R_2_max =  mi_1.R_2_max_0 +new_R2\n",
    "    mi_1.R_2_nominal =  mi_1.R_2_nominal_0+new_R2\n",
    "    mi_1.U_1 = new_U1\n",
    "    mi_1.freq = new_freq\n",
    "\n",
    "    # update the y attribute of the plot with the new pdf\n",
    "    # computed using new mu and sigma values\n",
    "    mi_1.update(n_array)\n",
    "    line_Tu.y = mi_1.T_u\n",
    "    line_I1.y = abs(mi_1.I_1)    \n",
    "    \n",
    "    idx_n = np.argmax(mi_1.T_u<mi_1.T_u_nom)\n",
    "    \n",
    "    line_n_Tu.x  = [n_array[idx_n]]\n",
    "    line_n_Tu.y = [mi_1.T_u[idx_n]]\n",
    "    line_n_I1.x =  [n_array[idx_n]]\n",
    "    line_n_I1.y =  [np.abs(mi_1.I_1[idx_n])]  \n",
    "    #print(np.abs(mi_1.I_1[idx_n]) )\n",
    "    # also update the fig title\n",
    "    #pdf_fig.title = title_tmpl.format(new_mu, new_sigma)\n",
    "\n",
    "# register the above callback with the 'value' trait of the sliders\n",
    "sld_R2.observe(update_density, 'value')\n",
    "sld_U1.observe(update_density, 'value')\n",
    "sld_freq.observe(update_density, 'value')\n",
    "\n",
    "\n",
    "mi_1.update(n_array)\n",
    "\n",
    "mi_1.R_2_start_0 =  mi_1.R_2_start\n",
    "mi_1.R_2_max_0 =  mi_1.R_2_max\n",
    "mi_1.R_2_nominal_0 =  mi_1.R_2_nominal\n",
    "mi_1.U_1_0 =  mi_1.U_1\n",
    "\n",
    "scale_x_Tu.min = 0\n",
    "scale_x_Tu.max = 1500\n",
    "scale_y_Tu.min = 0\n",
    "scale_y_Tu.max = np.max(mi_1.T_u)*1.2\n",
    "\n",
    "scale_x_I1.min = 0\n",
    "scale_x_I1.max = 1500\n",
    "scale_y_I1.min = 0\n",
    "scale_y_I1.max = np.max(np.abs(mi_1.I_1))*1.2\n",
    "\n",
    "line_Tu.x = n_array\n",
    "line_Tu.y = mi_1.T_u\n",
    "line_Tun.x = n_array\n",
    "line_Tun.y = (n_array-n_array) + mi_1.T_u_nom\n",
    "line_I1.x = n_array\n",
    "line_I1.y = abs(mi_1.I_1)\n",
    "line_In.x = n_array\n",
    "line_In.y = (n_array-n_array) + mi_1.I_nom\n",
    "\n",
    "final_layout = widgets.VBox([widgets.VBox([fig_Tu, fig_I1]),slider_layout,ckbox_escalar])\n",
    "final_layout"
   ]
  },
  {
   "cell_type": "code",
   "execution_count": 15,
   "metadata": {},
   "outputs": [
    {
     "data": {
      "text/plain": [
       "array([0])"
      ]
     },
     "execution_count": 15,
     "metadata": {},
     "output_type": "execute_result"
    }
   ],
   "source": [
    "line_n_Tu.y"
   ]
  },
  {
   "cell_type": "code",
   "execution_count": 6,
   "metadata": {},
   "outputs": [
    {
     "data": {
      "text/plain": [
       "288"
      ]
     },
     "execution_count": 6,
     "metadata": {},
     "output_type": "execute_result"
    }
   ],
   "source": [
    "np.argmax(mi_1.T_u<mi_1.T_u_nom)"
   ]
  },
  {
   "cell_type": "code",
   "execution_count": null,
   "metadata": {},
   "outputs": [],
   "source": []
  }
 ],
 "metadata": {
  "kernelspec": {
   "display_name": "Python 3",
   "language": "python",
   "name": "python3"
  },
  "language_info": {
   "codemirror_mode": {
    "name": "ipython",
    "version": 3
   },
   "file_extension": ".py",
   "mimetype": "text/x-python",
   "name": "python",
   "nbconvert_exporter": "python",
   "pygments_lexer": "ipython3",
   "version": "3.7.5"
  }
 },
 "nbformat": 4,
 "nbformat_minor": 2
}
