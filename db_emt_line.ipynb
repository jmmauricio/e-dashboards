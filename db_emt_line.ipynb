{
 "cells": [
  {
   "cell_type": "code",
   "execution_count": 1,
   "metadata": {},
   "outputs": [],
   "source": [
    "import numpy as np\n",
    "import matplotlib.pyplot as plt\n",
    "from core.db_emt_line_core import intplot"
   ]
  },
  {
   "cell_type": "code",
   "execution_count": 2,
   "metadata": {},
   "outputs": [],
   "source": [
    "%matplotlib widget\n",
    "plt.ioff()\n",
    "plt.clf()"
   ]
  },
  {
   "cell_type": "markdown",
   "metadata": {},
   "source": [
    "### Parámetros en común"
   ]
  },
  {
   "cell_type": "code",
   "execution_count": 3,
   "metadata": {},
   "outputs": [
    {
     "name": "stdout",
     "output_type": "stream",
     "text": [
      "Velocidad de propagación = 16525.5 km/s\n",
      "Impedancia = 14.55 Ω\n"
     ]
    }
   ],
   "source": [
    "R_l_m = 0.0268e-3  # resistencia de la linea Ω/m\n",
    "X_l_m = 0.2766e-3  # reactancia de la linea Ω/m\n",
    "L_m = X_l_m/(2*np.pi*50)\n",
    "C_m = 4.159e-9     # capacidad shunt de la linea F/m\n",
    "\n",
    "Long = 200.0\n",
    "N_pos = 200\n",
    "Δpos = Long/N_pos\n",
    "L = L_m*Δpos\n",
    "C = C_m*Δpos\n",
    "R_l = R_l_m*Δpos\n",
    "R_s = 200000\n",
    "\n",
    "C_speed = 1/np.sqrt(L*C) # velocidad de propagación\n",
    "print(f'Velocidad de propagación = {C_speed/1000:0.1f} km/s')\n",
    "R_c = np.sqrt(L/C)\n",
    "print(f'Impedancia = {R_c:0.2f} Ω')"
   ]
  },
  {
   "cell_type": "markdown",
   "metadata": {},
   "source": [
    "### Linea terminada en circuito abierto"
   ]
  },
  {
   "cell_type": "code",
   "execution_count": 5,
   "metadata": {
    "scrolled": true
   },
   "outputs": [
    {
     "data": {
      "application/vnd.jupyter.widget-view+json": {
       "model_id": "8dee711843aa47b1b80d833366d23c7a",
       "version_major": 2,
       "version_minor": 0
      },
      "text/plain": [
       "VBox(children=(HBox(children=(Canvas(toolbar=Toolbar(toolitems=[('Home', 'Reset original view', 'home', 'home'…"
      ]
     },
     "metadata": {},
     "output_type": "display_data"
    }
   ],
   "source": [
    "intplot('./data/open_circuit_end.npz',step=1)"
   ]
  },
  {
   "cell_type": "markdown",
   "metadata": {},
   "source": [
    "### Linea terminada en corto circuito"
   ]
  },
  {
   "cell_type": "code",
   "execution_count": 6,
   "metadata": {},
   "outputs": [
    {
     "data": {
      "application/vnd.jupyter.widget-view+json": {
       "model_id": "c2ba0499f82d453dbd46606472e89a1d",
       "version_major": 2,
       "version_minor": 0
      },
      "text/plain": [
       "VBox(children=(HBox(children=(Canvas(toolbar=Toolbar(toolitems=[('Home', 'Reset original view', 'home', 'home'…"
      ]
     },
     "metadata": {},
     "output_type": "display_data"
    }
   ],
   "source": [
    "intplot('./data/short_circuit_end.npz',ymin=-100,ymax=100,step=1.0)"
   ]
  },
  {
   "cell_type": "markdown",
   "metadata": {},
   "source": [
    "### Linea con cambio de impedancia (aumento en la mitad)"
   ]
  },
  {
   "cell_type": "code",
   "execution_count": 7,
   "metadata": {},
   "outputs": [
    {
     "data": {
      "application/vnd.jupyter.widget-view+json": {
       "model_id": "fd94a9d6ef564f0495feef6655db645f",
       "version_major": 2,
       "version_minor": 0
      },
      "text/plain": [
       "VBox(children=(HBox(children=(Canvas(toolbar=Toolbar(toolitems=[('Home', 'Reset original view', 'home', 'home'…"
      ]
     },
     "metadata": {},
     "output_type": "display_data"
    }
   ],
   "source": [
    "intplot('./data/impedance_up.npz',ymin=300,ymax=450,step=1)"
   ]
  },
  {
   "cell_type": "markdown",
   "metadata": {},
   "source": [
    "### Linea con cambio de impedancia (disminución en la mitad)"
   ]
  },
  {
   "cell_type": "code",
   "execution_count": 8,
   "metadata": {},
   "outputs": [
    {
     "data": {
      "application/vnd.jupyter.widget-view+json": {
       "model_id": "75c877e4af2541d599d3392f669d3ae2",
       "version_major": 2,
       "version_minor": 0
      },
      "text/plain": [
       "VBox(children=(HBox(children=(Canvas(toolbar=Toolbar(toolitems=[('Home', 'Reset original view', 'home', 'home'…"
      ]
     },
     "metadata": {},
     "output_type": "display_data"
    }
   ],
   "source": [
    "intplot('./data/impedance_down.npz',ymin=300,ymax=450,step=1)"
   ]
  },
  {
   "cell_type": "markdown",
   "metadata": {},
   "source": [
    "### Linea con descargador (50 m)"
   ]
  },
  {
   "cell_type": "code",
   "execution_count": 9,
   "metadata": {},
   "outputs": [
    {
     "data": {
      "application/vnd.jupyter.widget-view+json": {
       "model_id": "80278709e4334fa396d7b173e362baab",
       "version_major": 2,
       "version_minor": 0
      },
      "text/plain": [
       "VBox(children=(HBox(children=(Canvas(toolbar=Toolbar(toolitems=[('Home', 'Reset original view', 'home', 'home'…"
      ]
     },
     "metadata": {},
     "output_type": "display_data"
    }
   ],
   "source": [
    "intplot('./data/surge_arrester_50m.npz',ymin=200,ymax=500,xmax=150,step=1)"
   ]
  },
  {
   "cell_type": "markdown",
   "metadata": {},
   "source": [
    "### Linea con descargador (5 m)"
   ]
  },
  {
   "cell_type": "code",
   "execution_count": 10,
   "metadata": {},
   "outputs": [
    {
     "data": {
      "application/vnd.jupyter.widget-view+json": {
       "model_id": "71d95273266e46ae9087e5f3c25033f7",
       "version_major": 2,
       "version_minor": 0
      },
      "text/plain": [
       "VBox(children=(HBox(children=(Canvas(toolbar=Toolbar(toolitems=[('Home', 'Reset original view', 'home', 'home'…"
      ]
     },
     "metadata": {},
     "output_type": "display_data"
    }
   ],
   "source": [
    "intplot('./data/surge_arrester_05m.npz',ymin=200,ymax=500,xmax=105,step=1)"
   ]
  },
  {
   "cell_type": "code",
   "execution_count": 12,
   "metadata": {},
   "outputs": [
    {
     "data": {
      "image/png": "[encoded data removed]",
      "text/plain": [
       "<Figure size 600x300 with 1 Axes>"
      ]
     },
     "execution_count": 12,
     "metadata": {},
     "output_type": "execute_result"
    }
   ],
   "source": [
    "data_50m = np.load('./data/surge_arrester_50m.npz')\n",
    "data_05m = np.load('./data/surge_arrester_05m.npz')\n",
    "\n",
    "fig, axes = plt.subplots(nrows=1,ncols=1, figsize=(6, 3), dpi=100)\n",
    "\n",
    "axes.plot(data_50m['t']*1e6,data_50m['X'][:,300]/1000,'r',label='50 m')\n",
    "axes.plot(data_05m['t']*1e6,data_05m['X'][:,210]/1000,'g',label=' 5 m')\n",
    "axes.legend()\n",
    "axes.set_ylabel('Voltage (kV)')\n",
    "axes.set_xlabel('Time (µs)')\n",
    "fig"
   ]
  },
  {
   "cell_type": "code",
   "execution_count": null,
   "metadata": {},
   "outputs": [],
   "source": []
  }
 ],
 "metadata": {
  "kernelspec": {
   "display_name": "Python 3",
   "language": "python",
   "name": "python3"
  },
  "language_info": {
   "codemirror_mode": {
    "name": "ipython",
    "version": 3
   },
   "file_extension": ".py",
   "mimetype": "text/x-python",
   "name": "python",
   "nbconvert_exporter": "python",
   "pygments_lexer": "ipython3",
   "version": "3.8.5"
  }
 },
 "nbformat": 4,
 "nbformat_minor": 4
}
