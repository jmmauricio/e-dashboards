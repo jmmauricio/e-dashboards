{
 "cells": [
  {
   "cell_type": "markdown",
   "metadata": {},
   "source": [
    "# The Matplotlib Jupyter Widget Backend\n",
    "\n",
    "Enabling interaction with matplotlib charts in the Jupyter notebook and JupyterLab\n",
    "\n",
    "https://github.com/matplotlib/jupyter-matplotlib"
   ]
  },
  {
   "cell_type": "code",
   "execution_count": 1,
   "metadata": {},
   "outputs": [],
   "source": [
    "# Enabling the `widget` backend.\n",
    "# This requires jupyter-matplotlib a.k.a. ipympl.\n",
    "# ipympl can be install via pip or conda.\n",
    "%matplotlib widget"
   ]
  },
  {
   "cell_type": "code",
   "execution_count": 6,
   "metadata": {
    "scrolled": false
   },
   "outputs": [],
   "source": [
    "# Testing matplotlib interactions with a simple plot\n",
    "\n",
    "import matplotlib.pyplot as plt\n",
    "import numpy as np\n",
    "from im import im\n",
    "import ipywidgets"
   ]
  },
  {
   "cell_type": "code",
   "execution_count": 17,
   "metadata": {},
   "outputs": [
    {
     "data": {
      "application/vnd.jupyter.widget-view+json": {
       "model_id": "1ab0264a17f34cb7a7700ebcfb097ebb",
       "version_major": 2,
       "version_minor": 0
      },
      "text/plain": [
       "VBox(children=(FigureCanvasNbAgg(), FloatSlider(value=1.0, description='R₂', max=2.0, min=0.02)))"
      ]
     },
     "metadata": {},
     "output_type": "display_data"
    }
   ],
   "source": [
    "# When using the `widget` backend from ipympl,\n",
    "# fig.canvas is a proper Jupyter interactive widget, which can be embedded in\n",
    "# Layout classes like HBox and Vbox.\n",
    "\n",
    "# One can bound figure attributes to other widget values.\n",
    "plt.ioff()\n",
    "plt.clf()\n",
    "\n",
    "sld_R2 = ipywidgets.FloatSlider(\n",
    "    orientation='horizontal',\n",
    "    description = u\"R₂\",\n",
    "    value=1.0,\n",
    "    min=0.02,\n",
    "    max=2.0\n",
    ")\n",
    "\n",
    "fig, axes = plt.subplots(ncols=2)\n",
    "\n",
    "n_array = np.linspace(0,1499,500)\n",
    "mi_1 = im('abb_22kWw')\n",
    "mi_1.update(n_array)\n",
    "\n",
    "mi_1.R_2_start_0 =  mi_1.R_2_start\n",
    "mi_1.R_2_max_0 =  mi_1.R_2_max\n",
    "mi_1.R_2_nominal_0 =  mi_1.R_2_nominal\n",
    "\n",
    "line_T_u  = axes[0].plot(n_array,mi_1.T_u)\n",
    "line_I_1m = axes[1].plot(n_array,np.abs(mi_1.I_1))\n",
    "\n",
    "def update(change):\n",
    "    \n",
    "    mi_1.R_2_nominal = mi_1.R_2_nominal + sld_R2.value\n",
    "    mi_1.R_2_max = mi_1.R_2_max_0 + sld_R2.value    \n",
    "    mi_1.R_2_start = mi_1.R_2_start_0 + sld_R2.value\n",
    "    \n",
    "    n_array = np.linspace(0,1499,500)\n",
    "\n",
    "    mi_1.update(n_array)\n",
    "\n",
    "    \n",
    "    line_T_u[0].set_data(n_array, mi_1.T_u)\n",
    "    line_I_1m[0].set_data(n_array,np.abs(mi_1.I_1))\n",
    "    fig.canvas.draw()\n",
    "    fig.canvas.flush_events()\n",
    "\n",
    "sld_R2.observe(update, names='value')\n",
    "\n",
    "ipywidgets.VBox([fig.canvas, sld_R2])"
   ]
  },
  {
   "cell_type": "code",
   "execution_count": null,
   "metadata": {},
   "outputs": [],
   "source": []
  },
  {
   "cell_type": "code",
   "execution_count": null,
   "metadata": {},
   "outputs": [],
   "source": []
  }
 ],
 "metadata": {
  "kernelspec": {
   "display_name": "Python 3",
   "language": "python",
   "name": "python3"
  },
  "language_info": {
   "codemirror_mode": {
    "name": "ipython",
    "version": 3
   },
   "file_extension": ".py",
   "mimetype": "text/x-python",
   "name": "python",
   "nbconvert_exporter": "python",
   "pygments_lexer": "ipython3",
   "version": "3.7.1"
  }
 },
 "nbformat": 4,
 "nbformat_minor": 2
}
