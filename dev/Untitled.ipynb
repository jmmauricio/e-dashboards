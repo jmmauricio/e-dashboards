{
 "cells": [
  {
   "cell_type": "code",
   "execution_count": 22,
   "metadata": {},
   "outputs": [],
   "source": [
    "import ipywidgets as widgets"
   ]
  },
  {
   "cell_type": "code",
   "execution_count": 37,
   "metadata": {},
   "outputs": [
    {
     "data": {
      "application/vnd.jupyter.widget-view+json": {
       "model_id": "ff0af3168cd04306954555561b7a37db",
       "version_major": 2,
       "version_minor": 0
      },
      "text/plain": [
       "Tab(children=(HBox(children=(FloatSlider(value=0.0, description='Xg (pu)'), FloatSlider(value=0.0, description…"
      ]
     },
     "metadata": {},
     "output_type": "display_data"
    }
   ],
   "source": [
    "tabs_names = ['GRID', 'VSC', 'CTRL1', 'CTRL2', 'CTRL3']\n",
    "# tab GRID\n",
    "sld_X_g_pu = widgets.FloatSlider(description='Xg (pu)')\n",
    "sld_RX = widgets.FloatSlider(description='RX ')\n",
    "child_1 = widgets.HBox([sld_X_g_pu,sld_RX])\n",
    "\n",
    "# tab VSC\n",
    "sld_L_t_pu = widgets.FloatSlider(description='$\\sf L_t$ (pu)')\n",
    "sld_L_s_pu = widgets.FloatSlider(description='$\\sf L_g$ (pu)')\n",
    "child_2 = widgets.HBox([sld_L_t_pu,sld_L_s_pu])\n",
    "\n",
    "# tab CTRL1\n",
    "sld_tau_ctrl1 = widgets.FloatSlider(description='$\\sf \\\\tau$ (s)')\n",
    "sld_Gv_pu = widgets.FloatSlider(description='$\\sf G_v$ (pu)')\n",
    "child_3 = widgets.HBox([sld_tau_ctrl1,sld_Gv_pu])\n",
    "\n",
    "# tab CTRL2\n",
    "sld_tau_ctrl2 = widgets.FloatSlider(description='$\\sf \\\\tau$ (s)')\n",
    "sld_Gv_pu = widgets.FloatSlider(description='$\\sf G_v$ (pu)')\n",
    "child_3 = widgets.HBox([sld_tau_ctrl1,sld_Gv_pu])\n",
    "\n",
    "children = [child_1,child_2,child_3]\n",
    "tab = widgets.Tab() \n",
    "tab.children = children\n",
    "for it in range(len(children)):\n",
    "    tab.set_title(it, tabs_names[it])\n",
    "tab"
   ]
  },
  {
   "cell_type": "code",
   "execution_count": 30,
   "metadata": {},
   "outputs": [
    {
     "data": {
      "text/plain": [
       "59.6"
      ]
     },
     "execution_count": 30,
     "metadata": {},
     "output_type": "execute_result"
    }
   ],
   "source": [
    "sld_sld4.value"
   ]
  },
  {
   "cell_type": "code",
   "execution_count": 13,
   "metadata": {},
   "outputs": [
    {
     "data": {
      "text/plain": [
       "(IntSlider(value=0), Text(value=''))"
      ]
     },
     "execution_count": 13,
     "metadata": {},
     "output_type": "execute_result"
    }
   ],
   "source": [
    "accordion.children"
   ]
  },
  {
   "cell_type": "code",
   "execution_count": 15,
   "metadata": {},
   "outputs": [],
   "source": [
    "\n"
   ]
  },
  {
   "cell_type": "code",
   "execution_count": 17,
   "metadata": {},
   "outputs": [
    {
     "data": {
      "text/plain": [
       "[Label(value='0'),\n",
       " Label(value='1'),\n",
       " Label(value='2'),\n",
       " Label(value='3'),\n",
       " Label(value='4'),\n",
       " Label(value='5'),\n",
       " Label(value='6'),\n",
       " Label(value='7')]"
      ]
     },
     "execution_count": 17,
     "metadata": {},
     "output_type": "execute_result"
    }
   ],
   "source": [
    "items"
   ]
  },
  {
   "cell_type": "code",
   "execution_count": null,
   "metadata": {},
   "outputs": [],
   "source": []
  }
 ],
 "metadata": {
  "kernelspec": {
   "display_name": "Python 3.7.7 64-bit ('ProgramData': virtualenv)",
   "language": "python",
   "name": "python37764bitprogramdatavirtualenv46c0821546dd4f01859541541cbf05ac"
  },
  "language_info": {
   "codemirror_mode": {
    "name": "ipython",
    "version": 3
   },
   "file_extension": ".py",
   "mimetype": "text/x-python",
   "name": "python",
   "nbconvert_exporter": "python",
   "pygments_lexer": "ipython3",
   "version": "3.7.7"
  }
 },
 "nbformat": 4,
 "nbformat_minor": 4
}
