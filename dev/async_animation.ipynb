{
 "cells": [
  {
   "cell_type": "code",
   "execution_count": 1,
   "metadata": {},
   "outputs": [],
   "source": [
    "%matplotlib widget"
   ]
  },
  {
   "cell_type": "code",
   "execution_count": 2,
   "metadata": {},
   "outputs": [],
   "source": [
    "# https://nbviewer.jupyter.org/github/nvictus/svgpath2mpl/blob/master/examples/homer.ipynb"
   ]
  },
  {
   "cell_type": "code",
   "execution_count": 11,
   "metadata": {},
   "outputs": [
    {
     "data": {
      "text/plain": [
       "(300, 600)"
      ]
     },
     "execution_count": 11,
     "metadata": {},
     "output_type": "execute_result"
    }
   ],
   "source": [
    "import xml.etree.ElementTree as etree\n",
    "import matplotlib as mpl\n",
    "import matplotlib.pyplot as plt\n",
    "import numpy as np\n",
    "import re\n",
    "from svgpath2mpl import parse_path\n",
    "plt.close('all')\n",
    "plt.ioff()\n",
    "plt.clf()\n",
    "\n",
    "tree = etree.parse('flujo_4.svg')\n",
    "root = tree.getroot()\n",
    "width = int(re.match(r'\\d+', root.attrib['width']).group())\n",
    "height = int(re.match(r'\\d+', root.attrib['height']).group())\n",
    "path_elems = root.findall('.//{http://www.w3.org/2000/svg}path')\n",
    "\n",
    "paths = [parse_path(elem.attrib['d']) for elem in path_elems]\n",
    "facecolors = [elem.attrib.get('fill', 'none') for elem in path_elems]\n",
    "edgecolors = [elem.attrib.get('stroke', 'none') for elem in path_elems]\n",
    "linewidths = [elem.attrib.get('stroke_width', 1) for elem in path_elems]\n",
    "\n",
    "facecolors = ['blue']\n",
    "edgecolors = ['blue']\n",
    "collection = mpl.collections.PathCollection(paths, \n",
    "                                      edgecolors=edgecolors, \n",
    "                                      linewidths=linewidths,\n",
    "                                      facecolors=facecolors)\n",
    "fig,axes = plt.subplots(nrows=1, ncols = 2, figsize=(5,15));\n",
    "angle = np.deg2rad(100)\n",
    "t2 = mpl.transforms.Affine2D().rotate_around(angle,10.0,0.0)  + axes[0].transData\n",
    "t3 = mpl.transforms.Affine2D().translate(-150,0.0)\n",
    "collection.set_transform(t2)\n",
    "\n",
    "\n",
    "axes[0].add_artist(collection)\n",
    "axes[0].set_xlim([300,600])\n",
    "axes[0].set_ylim([300,600])\n",
    "\n",
    "\n"
   ]
  },
  {
   "cell_type": "code",
   "execution_count": 12,
   "metadata": {},
   "outputs": [
    {
     "data": {
      "text/plain": [
       "136"
      ]
     },
     "execution_count": 12,
     "metadata": {},
     "output_type": "execute_result"
    }
   ],
   "source": [
    "height"
   ]
  },
  {
   "cell_type": "code",
   "execution_count": 14,
   "metadata": {},
   "outputs": [
    {
     "data": {
      "application/vnd.jupyter.widget-view+json": {
       "model_id": "96084c36ca8347448adaa47f5ae8b46c",
       "version_major": 2,
       "version_minor": 0
      },
      "text/plain": [
       "FloatProgress(value=0.0, max=1000.0)"
      ]
     },
     "metadata": {},
     "output_type": "display_data"
    },
    {
     "data": {
      "application/vnd.jupyter.widget-view+json": {
       "model_id": "ff1461ce3d364d2a9f6ecb4dc1803ba2",
       "version_major": 2,
       "version_minor": 0
      },
      "text/plain": [
       "VBox(children=(FloatSlider(value=0.1, max=2.0, min=0.1), Button(description='Reiniciar', style=ButtonStyle(), …"
      ]
     },
     "metadata": {},
     "output_type": "display_data"
    }
   ],
   "source": [
    "import threading\n",
    "from IPython.display import display\n",
    "import ipywidgets as widgets\n",
    "import time\n",
    "progress = widgets.FloatProgress(value=0.0, min=0.0, max=1000)\n",
    "sld= widgets.FloatSlider(orientation='horizontal',description = '', \n",
    "                                value=0.1, min=0.1,max= 2.0, \n",
    "                                step=0.1)\n",
    "btn_reset = widgets.Button(\n",
    "    description='Reiniciar',\n",
    "    disabled=False,\n",
    "    button_style='', # 'success', 'info', 'warning', 'danger' or ''\n",
    "    tooltip='Reiniciar',\n",
    "    icon=''\n",
    ")\n",
    "\n",
    "\n",
    "class animation:\n",
    "    def __init__(self):\n",
    "        self.Dt = 1.0\n",
    "        self.i = 0\n",
    "        self.collection = collection\n",
    "        \n",
    "    def update(self,change):\n",
    "        \n",
    "        self.Dt = sld.value\n",
    "        \n",
    "\n",
    "        fig.canvas.draw_idle()\n",
    "        \n",
    "\n",
    "        \n",
    "    def reset(self,change):\n",
    "        \n",
    "        progress.value =0.0\n",
    "        self.i = 0\n",
    "         \n",
    "        \n",
    "    def work(self,progress):\n",
    "        total = 1000\n",
    "        for it in range(total):\n",
    "            \n",
    "            time.sleep(self.Dt)\n",
    "            progress.value = float(self.i) \n",
    "            angle = self.i*10\n",
    "            t2 = mpl.transforms.Affine2D().rotate_deg_around(435,470, angle) + axes[0].transData\n",
    "            self.collection.set_transform(t2)\n",
    "            fig.canvas.draw_idle()\n",
    "\n",
    "            self.i += 1\n",
    "        \n",
    "\n",
    "anim = animation()\n",
    "thread = threading.Thread(target=anim.work, args=(progress,))\n",
    "display(progress)\n",
    "thread.start()\n",
    "sld.observe(anim.update, names='value')\n",
    "btn_reset.on_click(anim.reset)\n",
    "\n",
    "layout = widgets.VBox([sld,btn_reset,fig.canvas])\n",
    "layout"
   ]
  },
  {
   "cell_type": "code",
   "execution_count": null,
   "metadata": {},
   "outputs": [],
   "source": []
  },
  {
   "cell_type": "code",
   "execution_count": null,
   "metadata": {},
   "outputs": [],
   "source": []
  },
  {
   "cell_type": "code",
   "execution_count": null,
   "metadata": {},
   "outputs": [],
   "source": []
  },
  {
   "cell_type": "code",
   "execution_count": null,
   "metadata": {},
   "outputs": [],
   "source": []
  }
 ],
 "metadata": {
  "kernelspec": {
   "display_name": "Python 3",
   "language": "python",
   "name": "python3"
  },
  "language_info": {
   "codemirror_mode": {
    "name": "ipython",
    "version": 3
   },
   "file_extension": ".py",
   "mimetype": "text/x-python",
   "name": "python",
   "nbconvert_exporter": "python",
   "pygments_lexer": "ipython3",
   "version": "3.7.6"
  }
 },
 "nbformat": 4,
 "nbformat_minor": 4
}
